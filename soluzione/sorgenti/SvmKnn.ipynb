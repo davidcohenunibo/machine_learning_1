{
 "cells": [
  {
   "cell_type": "code",
   "execution_count": 32,
   "metadata": {
    "collapsed": true
   },
   "outputs": [],
   "source": [
    "import pandas as pd\n",
    "import numpy as np\n",
    "from sklearn.preprocessing import MinMaxScaler\n",
    "from sklearn.linear_model import LogisticRegression\n",
    "from sklearn.neighbors import KNeighborsClassifier\n",
    "from sklearn.svm import SVC\n",
    "from sklearn.model_selection import GridSearchCV,StratifiedShuffleSplit\n",
    "import ml_utilities"
   ]
  },
  {
   "cell_type": "code",
   "execution_count": 1,
   "outputs": [],
   "source": [
    "TESTS_PATH = \"./tests/\"\n",
    "INFO_PATH = \"./tests/experiments_info\"\n",
    "DATASET_TEST_PATH = 'DBs/PenDigits/pendigits_te.txt'\n",
    "DATASET_PATH = 'DBs/PenDigits/pendigits_tr.txt'\n",
    "RESULT_PATH = 'Es3Predictions.txt'"
   ],
   "metadata": {
    "collapsed": false
   }
  },
  {
   "cell_type": "code",
   "execution_count": 35,
   "outputs": [],
   "source": [
    "def read_data():\n",
    "    feat_count = 16\n",
    "    data_path = DATASET_PATH # Impostare il percorso corretto\n",
    "    patterns, labels = ml_utilities.load_labeled_dataset_from_txt(data_path, feat_count)\n",
    "    test_path = DATASET_TEST_PATH\n",
    "    x_test = ml_utilities.load_unlabeled_dataset_from_txt(test_path, feature_count)\n",
    "    return patterns, labels, x_test"
   ],
   "metadata": {
    "collapsed": false
   }
  },
  {
   "cell_type": "code",
   "execution_count": 36,
   "outputs": [],
   "source": [
    "def normalize_data(x_train, x_test):\n",
    "    scaler = MinMaxScaler(feature_range = (0,1))\n",
    "    scaler.fit(dataset_patterns)\n",
    "    x_train_normalized = scaler.fit_transform(x_train)\n",
    "    x_test_normalized = scaler.fit_transform(x_test)\n",
    "\n",
    "    return x_train_normalized, x_test_normalized"
   ],
   "metadata": {
    "collapsed": false
   }
  },
  {
   "cell_type": "code",
   "execution_count": 65,
   "outputs": [],
   "source": [
    "model_params = {\n",
    "    'SVC': {\n",
    "        'model': SVC( ),\n",
    "        'params' : {\n",
    "            'C': [2**i for i in range(-5,16)] + [1],  #Regularization parameter. Providing only two as SVM is slow\n",
    "            'kernel': ['rbf','linear'],\n",
    "            'gamma': [2**i for i in range(-5,16)] + [0.00009111627561154887],\n",
    "            'class_weight':['balanced', None],\n",
    "            'degree' : [1,2,3,4,5,6]\n",
    "        }\n",
    "    },\n",
    "    'KNeighbors': {\n",
    "        'model': KNeighborsClassifier(),\n",
    "        'params' : {\n",
    "            'n_neighbors': [1,3,5,7,9,11,13,15,17,19,21,23,25,27],\n",
    "            'weights': ['uniform','distance'],\n",
    "            'algorithm': [\"ball_tree\",\"kd_tree\",\"brute\"],\n",
    "            'metric': [\"minkowski\",\"euclidean\",\"l1\", \"l2\",\"manhattan\"],\n",
    "\n",
    "        }\n",
    "    },\n",
    "    'logistic_regression' : {\n",
    "        'model': LogisticRegression(solver='liblinear',multi_class='auto'),\n",
    "        'params': {\n",
    "            'C': [2**i for i in range(-5,16)] + [1],  #Regularization. . Providing only two as LR can be slow\n",
    "            'penalty': ['l1', 'l2']\n",
    "        }\n",
    "    }\n",
    "}\n",
    "scores=[]"
   ],
   "metadata": {
    "collapsed": false
   }
  },
  {
   "cell_type": "code",
   "execution_count": 46,
   "outputs": [
    {
     "name": "stdout",
     "output_type": "stream",
     "text": [
      "Shape dataset: (442, 16)\n",
      "Shape labels: (442,)\n"
     ]
    }
   ],
   "source": [
    "# Caricamento del dataset\n",
    "feature_count = 16\n",
    "dataset_path = 'DBs/PenDigits/pendigits_tr.txt'  # Impostare il percorso corretto\n",
    "\n",
    "dataset_patterns, dataset_labels = ml_utilities.load_labeled_dataset_from_txt(dataset_path, feature_count)\n",
    "print('Shape dataset:', dataset_patterns.shape)\n",
    "print('Shape labels:', dataset_labels.shape)"
   ],
   "metadata": {
    "collapsed": false
   }
  },
  {
   "cell_type": "code",
   "execution_count": null,
   "outputs": [],
   "source": [
    "np.random.seed(42)\n",
    "\n",
    "x_train, y_train, x_test = read_data()\n",
    "x_train, x_test = normalize_data(x_train,x_test)"
   ],
   "metadata": {
    "collapsed": false
   }
  },
  {
   "cell_type": "code",
   "execution_count": 69,
   "outputs": [
    {
     "name": "stdout",
     "output_type": "stream",
     "text": [
      "fit completed\n",
      "fit completed\n",
      "fit completed\n",
      "data_test_size= 0.05 and folds = 1\n",
      "fit completed\n",
      "fit completed\n",
      "fit completed\n",
      "fit completed\n",
      "data_test_size= 0.05 and folds = 2\n",
      "fit completed\n",
      "fit completed\n",
      "fit completed\n",
      "fit completed\n",
      "data_test_size= 0.05 and folds = 3\n",
      "fit completed\n",
      "fit completed\n",
      "fit completed\n",
      "fit completed\n",
      "data_test_size= 0.05 and folds = 4\n",
      "fit completed\n",
      "fit completed\n",
      "fit completed\n",
      "fit completed\n",
      "data_test_size= 0.05 and folds = 5\n",
      "fit completed\n",
      "fit completed\n",
      "fit completed\n",
      "fit completed\n",
      "data_test_size= 0.05 and folds = 6\n",
      "fit completed\n",
      "fit completed\n",
      "fit completed\n",
      "fit completed\n",
      "data_test_size= 0.05 and folds = 7\n",
      "fit completed\n",
      "fit completed\n",
      "fit completed\n",
      "fit completed\n",
      "data_test_size= 0.05 and folds = 8\n",
      "fit completed\n",
      "fit completed\n",
      "fit completed\n",
      "fit completed\n",
      "data_test_size= 0.05 and folds = 9\n",
      "fit completed\n"
     ]
    }
   ],
   "source": [
    "for data_test_size in[0.05]:\n",
    "    for folds in  np.arange(1, 10, 1):\n",
    "        cross_val = StratifiedShuffleSplit(n_splits=folds, test_size=data_test_size, random_state=42)\n",
    "        for model_name, mp in model_params.items():\n",
    "            grid =  GridSearchCV(estimator=mp['model'],\n",
    "                                 param_grid=mp['params'],\n",
    "                                 cv=cross_val,\n",
    "                                 n_jobs=16,\n",
    "                                 return_train_score=False)\n",
    "\n",
    "            grid.fit(x_train,y_train)\n",
    "            scores.append({\n",
    "                'data_test_size': data_test_size,\n",
    "                'folds': folds,\n",
    "                'model': model_name,\n",
    "                'best_score': grid.best_score_,\n",
    "                'mean_test_score': grid.cv_results_['mean_test_score'],\n",
    "                'best_params': grid.best_params_,\n",
    "            })\n",
    "            print(f\"fit completed\")\n",
    "        dd = pd.DataFrame(scores,columns=['data_test_size','folds','model','best_score','mean_test_score','best_params',])\n",
    "        print(f\"data_test_size= {data_test_size} and folds = {folds}\")\n",
    "        print(f\"fit completed\")"
   ],
   "metadata": {
    "collapsed": false
   }
  },
  {
   "cell_type": "code",
   "execution_count": 148,
   "outputs": [
    {
     "data": {
      "text/plain": "     data_test_size  folds                model  best_score  \\\n0              0.10      1                  SVC    0.933333   \n1              0.10      1           KNeighbors    0.888889   \n2              0.10      1  logistic_regression    0.777778   \n3              0.10      2                  SVC    0.866667   \n4              0.10      2           KNeighbors    0.855556   \n..              ...    ...                  ...         ...   \n508            0.05      8           KNeighbors    0.864130   \n509            0.05      8  logistic_regression    0.782609   \n510            0.05      9                  SVC    0.864734   \n511            0.05      9           KNeighbors    0.855072   \n512            0.05      9  logistic_regression    0.782609   \n\n                                       mean_test_score  \\\n0    [0.15555555555555556, 0.3111111111111111, 0.15...   \n1    [0.7555555555555555, 0.7555555555555555, 0.711...   \n2    [0.13333333333333333, 0.4666666666666667, 0.26...   \n3    [0.14444444444444443, 0.28888888888888886, 0.1...   \n4    [0.7333333333333334, 0.7333333333333334, 0.766...   \n..                                                 ...   \n508  [0.7663043478260869, 0.7663043478260869, 0.826...   \n509  [0.13043478260869565, 0.4782608695652174, 0.35...   \n510  [0.08695652173913043, 0.2657004830917874, 0.08...   \n511  [0.7536231884057971, 0.7536231884057971, 0.806...   \n512  [0.13043478260869565, 0.4734299516908213, 0.34...   \n\n                                           best_params  \n0    {'C': 0.125, 'class_weight': 'balanced', 'degr...  \n1    {'algorithm': 'ball_tree', 'metric': 'minkowsk...  \n2                          {'C': 0.5, 'penalty': 'l2'}  \n3    {'C': 1, 'class_weight': 'balanced', 'degree':...  \n4    {'algorithm': 'ball_tree', 'metric': 'minkowsk...  \n..                                                 ...  \n508  {'algorithm': 'ball_tree', 'metric': 'minkowsk...  \n509                          {'C': 1, 'penalty': 'l1'}  \n510  {'C': 1, 'class_weight': None, 'degree': 1, 'g...  \n511  {'algorithm': 'ball_tree', 'metric': 'minkowsk...  \n512                          {'C': 1, 'penalty': 'l1'}  \n\n[513 rows x 6 columns]",
      "text/html": "<div>\n<style scoped>\n    .dataframe tbody tr th:only-of-type {\n        vertical-align: middle;\n    }\n\n    .dataframe tbody tr th {\n        vertical-align: top;\n    }\n\n    .dataframe thead th {\n        text-align: right;\n    }\n</style>\n<table border=\"1\" class=\"dataframe\">\n  <thead>\n    <tr style=\"text-align: right;\">\n      <th></th>\n      <th>data_test_size</th>\n      <th>folds</th>\n      <th>model</th>\n      <th>best_score</th>\n      <th>mean_test_score</th>\n      <th>best_params</th>\n    </tr>\n  </thead>\n  <tbody>\n    <tr>\n      <th>0</th>\n      <td>0.10</td>\n      <td>1</td>\n      <td>SVC</td>\n      <td>0.933333</td>\n      <td>[0.15555555555555556, 0.3111111111111111, 0.15...</td>\n      <td>{'C': 0.125, 'class_weight': 'balanced', 'degr...</td>\n    </tr>\n    <tr>\n      <th>1</th>\n      <td>0.10</td>\n      <td>1</td>\n      <td>KNeighbors</td>\n      <td>0.888889</td>\n      <td>[0.7555555555555555, 0.7555555555555555, 0.711...</td>\n      <td>{'algorithm': 'ball_tree', 'metric': 'minkowsk...</td>\n    </tr>\n    <tr>\n      <th>2</th>\n      <td>0.10</td>\n      <td>1</td>\n      <td>logistic_regression</td>\n      <td>0.777778</td>\n      <td>[0.13333333333333333, 0.4666666666666667, 0.26...</td>\n      <td>{'C': 0.5, 'penalty': 'l2'}</td>\n    </tr>\n    <tr>\n      <th>3</th>\n      <td>0.10</td>\n      <td>2</td>\n      <td>SVC</td>\n      <td>0.866667</td>\n      <td>[0.14444444444444443, 0.28888888888888886, 0.1...</td>\n      <td>{'C': 1, 'class_weight': 'balanced', 'degree':...</td>\n    </tr>\n    <tr>\n      <th>4</th>\n      <td>0.10</td>\n      <td>2</td>\n      <td>KNeighbors</td>\n      <td>0.855556</td>\n      <td>[0.7333333333333334, 0.7333333333333334, 0.766...</td>\n      <td>{'algorithm': 'ball_tree', 'metric': 'minkowsk...</td>\n    </tr>\n    <tr>\n      <th>...</th>\n      <td>...</td>\n      <td>...</td>\n      <td>...</td>\n      <td>...</td>\n      <td>...</td>\n      <td>...</td>\n    </tr>\n    <tr>\n      <th>508</th>\n      <td>0.05</td>\n      <td>8</td>\n      <td>KNeighbors</td>\n      <td>0.864130</td>\n      <td>[0.7663043478260869, 0.7663043478260869, 0.826...</td>\n      <td>{'algorithm': 'ball_tree', 'metric': 'minkowsk...</td>\n    </tr>\n    <tr>\n      <th>509</th>\n      <td>0.05</td>\n      <td>8</td>\n      <td>logistic_regression</td>\n      <td>0.782609</td>\n      <td>[0.13043478260869565, 0.4782608695652174, 0.35...</td>\n      <td>{'C': 1, 'penalty': 'l1'}</td>\n    </tr>\n    <tr>\n      <th>510</th>\n      <td>0.05</td>\n      <td>9</td>\n      <td>SVC</td>\n      <td>0.864734</td>\n      <td>[0.08695652173913043, 0.2657004830917874, 0.08...</td>\n      <td>{'C': 1, 'class_weight': None, 'degree': 1, 'g...</td>\n    </tr>\n    <tr>\n      <th>511</th>\n      <td>0.05</td>\n      <td>9</td>\n      <td>KNeighbors</td>\n      <td>0.855072</td>\n      <td>[0.7536231884057971, 0.7536231884057971, 0.806...</td>\n      <td>{'algorithm': 'ball_tree', 'metric': 'minkowsk...</td>\n    </tr>\n    <tr>\n      <th>512</th>\n      <td>0.05</td>\n      <td>9</td>\n      <td>logistic_regression</td>\n      <td>0.782609</td>\n      <td>[0.13043478260869565, 0.4734299516908213, 0.34...</td>\n      <td>{'C': 1, 'penalty': 'l1'}</td>\n    </tr>\n  </tbody>\n</table>\n<p>513 rows × 6 columns</p>\n</div>"
     },
     "execution_count": 148,
     "metadata": {},
     "output_type": "execute_result"
    }
   ],
   "source": [
    "dataframe = pd.read_pickle(TESTS_PATH+\"/Training\")\n",
    "dataframe.sort_values(by='best_score', ascending=False)\n",
    "dataframe"
   ],
   "metadata": {
    "collapsed": false
   }
  },
  {
   "cell_type": "code",
   "execution_count": 149,
   "outputs": [
    {
     "data": {
      "text/plain": "     data_test_size  folds                model  best_score  \\\n0              0.10      1                  SVC    0.933333   \n486            0.05      1                  SVC    0.913043   \n1              0.10      1           KNeighbors    0.888889   \n507            0.05      8                  SVC    0.880435   \n9              0.10      4                  SVC    0.877778   \n..              ...    ...                  ...         ...   \n473            0.95      5  logistic_regression    0.611429   \n484            0.95      9           KNeighbors    0.607407   \n482            0.95      8  logistic_regression    0.605060   \n485            0.95      9  logistic_regression    0.603968   \n479            0.95      7  logistic_regression    0.603061   \n\n                                       mean_test_score  \\\n0    [0.15555555555555556, 0.3111111111111111, 0.15...   \n486  [0.08695652173913043, 0.21739130434782608, 0.0...   \n1    [0.7555555555555555, 0.7555555555555555, 0.711...   \n507  [0.08695652173913043, 0.2663043478260869, 0.08...   \n9    [0.13888888888888887, 0.26111111111111107, 0.1...   \n..                                                 ...   \n473  [0.08571428571428572, 0.2680952380952381, 0.08...   \n484  [0.6074074074074074, 0.6074074074074074, 0.552...   \n482  [0.08571428571428572, 0.28482142857142856, 0.0...   \n485  [0.08571428571428572, 0.2783068783068783, 0.08...   \n479  [0.08571428571428573, 0.27789115646258505, 0.0...   \n\n                                           best_params     score  \n0    {'C': 0.125, 'class_weight': 'balanced', 'degr...  0.843891  \n486  {'C': 0.125, 'class_weight': 'balanced', 'degr...  0.857466  \n1    {'algorithm': 'ball_tree', 'metric': 'minkowsk...  0.866516  \n507  {'C': 1, 'class_weight': 'balanced', 'degree':...  0.990950  \n9    {'C': 0.5, 'class_weight': 'balanced', 'degree...  0.902715  \n..                                                 ...       ...  \n473                         {'C': 32, 'penalty': 'l2'}  0.000000  \n484  {'algorithm': 'ball_tree', 'metric': 'minkowsk...  1.000000  \n482                         {'C': 16, 'penalty': 'l2'}  0.000000  \n485                         {'C': 16, 'penalty': 'l2'}  0.000000  \n479                         {'C': 16, 'penalty': 'l2'}  0.000000  \n\n[513 rows x 7 columns]",
      "text/html": "<div>\n<style scoped>\n    .dataframe tbody tr th:only-of-type {\n        vertical-align: middle;\n    }\n\n    .dataframe tbody tr th {\n        vertical-align: top;\n    }\n\n    .dataframe thead th {\n        text-align: right;\n    }\n</style>\n<table border=\"1\" class=\"dataframe\">\n  <thead>\n    <tr style=\"text-align: right;\">\n      <th></th>\n      <th>data_test_size</th>\n      <th>folds</th>\n      <th>model</th>\n      <th>best_score</th>\n      <th>mean_test_score</th>\n      <th>best_params</th>\n      <th>score</th>\n    </tr>\n  </thead>\n  <tbody>\n    <tr>\n      <th>0</th>\n      <td>0.10</td>\n      <td>1</td>\n      <td>SVC</td>\n      <td>0.933333</td>\n      <td>[0.15555555555555556, 0.3111111111111111, 0.15...</td>\n      <td>{'C': 0.125, 'class_weight': 'balanced', 'degr...</td>\n      <td>0.843891</td>\n    </tr>\n    <tr>\n      <th>486</th>\n      <td>0.05</td>\n      <td>1</td>\n      <td>SVC</td>\n      <td>0.913043</td>\n      <td>[0.08695652173913043, 0.21739130434782608, 0.0...</td>\n      <td>{'C': 0.125, 'class_weight': 'balanced', 'degr...</td>\n      <td>0.857466</td>\n    </tr>\n    <tr>\n      <th>1</th>\n      <td>0.10</td>\n      <td>1</td>\n      <td>KNeighbors</td>\n      <td>0.888889</td>\n      <td>[0.7555555555555555, 0.7555555555555555, 0.711...</td>\n      <td>{'algorithm': 'ball_tree', 'metric': 'minkowsk...</td>\n      <td>0.866516</td>\n    </tr>\n    <tr>\n      <th>507</th>\n      <td>0.05</td>\n      <td>8</td>\n      <td>SVC</td>\n      <td>0.880435</td>\n      <td>[0.08695652173913043, 0.2663043478260869, 0.08...</td>\n      <td>{'C': 1, 'class_weight': 'balanced', 'degree':...</td>\n      <td>0.990950</td>\n    </tr>\n    <tr>\n      <th>9</th>\n      <td>0.10</td>\n      <td>4</td>\n      <td>SVC</td>\n      <td>0.877778</td>\n      <td>[0.13888888888888887, 0.26111111111111107, 0.1...</td>\n      <td>{'C': 0.5, 'class_weight': 'balanced', 'degree...</td>\n      <td>0.902715</td>\n    </tr>\n    <tr>\n      <th>...</th>\n      <td>...</td>\n      <td>...</td>\n      <td>...</td>\n      <td>...</td>\n      <td>...</td>\n      <td>...</td>\n      <td>...</td>\n    </tr>\n    <tr>\n      <th>473</th>\n      <td>0.95</td>\n      <td>5</td>\n      <td>logistic_regression</td>\n      <td>0.611429</td>\n      <td>[0.08571428571428572, 0.2680952380952381, 0.08...</td>\n      <td>{'C': 32, 'penalty': 'l2'}</td>\n      <td>0.000000</td>\n    </tr>\n    <tr>\n      <th>484</th>\n      <td>0.95</td>\n      <td>9</td>\n      <td>KNeighbors</td>\n      <td>0.607407</td>\n      <td>[0.6074074074074074, 0.6074074074074074, 0.552...</td>\n      <td>{'algorithm': 'ball_tree', 'metric': 'minkowsk...</td>\n      <td>1.000000</td>\n    </tr>\n    <tr>\n      <th>482</th>\n      <td>0.95</td>\n      <td>8</td>\n      <td>logistic_regression</td>\n      <td>0.605060</td>\n      <td>[0.08571428571428572, 0.28482142857142856, 0.0...</td>\n      <td>{'C': 16, 'penalty': 'l2'}</td>\n      <td>0.000000</td>\n    </tr>\n    <tr>\n      <th>485</th>\n      <td>0.95</td>\n      <td>9</td>\n      <td>logistic_regression</td>\n      <td>0.603968</td>\n      <td>[0.08571428571428572, 0.2783068783068783, 0.08...</td>\n      <td>{'C': 16, 'penalty': 'l2'}</td>\n      <td>0.000000</td>\n    </tr>\n    <tr>\n      <th>479</th>\n      <td>0.95</td>\n      <td>7</td>\n      <td>logistic_regression</td>\n      <td>0.603061</td>\n      <td>[0.08571428571428573, 0.27789115646258505, 0.0...</td>\n      <td>{'C': 16, 'penalty': 'l2'}</td>\n      <td>0.000000</td>\n    </tr>\n  </tbody>\n</table>\n<p>513 rows × 7 columns</p>\n</div>"
     },
     "execution_count": 149,
     "metadata": {},
     "output_type": "execute_result"
    }
   ],
   "source": [
    "dataframe['score'] = 0\n",
    "# for SVC\n",
    "datawork = dataframe.loc[dataframe['model'] == \"SVC\"]\n",
    "dataframe['score'].update(datawork['best_params'].map(lambda x: SVC(**x).fit(x_train, y_train).score(x_train, y_train)))\n",
    "# for KNN\n",
    "datawork = dataframe.loc[dataframe['model'] == \"KNeighbors\"]\n",
    "dataframe['score'].update(datawork['best_params'].map(lambda x: KNeighborsClassifier(**x).fit(x_train, y_train).score(x_train, y_train)))# for KNN\n",
    "dataframe.sort_values(by='best_score', ascending=False)"
   ],
   "metadata": {
    "collapsed": false
   }
  },
  {
   "cell_type": "code",
   "execution_count": 150,
   "outputs": [
    {
     "data": {
      "text/plain": "array([8., 4., 8., ..., 0., 8., 2.])"
     },
     "execution_count": 150,
     "metadata": {},
     "output_type": "execute_result"
    }
   ],
   "source": [
    "databest = dataframe.sort_values(by='best_score', ascending=True)\n",
    "best_classifier = SVC(**databest['best_params'][0])\n",
    "# Addestramento del classificatore\n",
    "best_classifier.fit(x_train, y_train)\n",
    "# Calcolo delle prediction\n",
    "predictions = best_classifier.predict(x_test)\n",
    "predictions"
   ],
   "metadata": {
    "collapsed": false
   }
  },
  {
   "cell_type": "code",
   "execution_count": 151,
   "outputs": [
    {
     "name": "stdout",
     "output_type": "stream",
     "text": [
      "Salvataggio delle prediction riuscito\n"
     ]
    }
   ],
   "source": [
    "RESULT_PATH = 'Es3Predictions.txt'\n",
    "with open(RESULT_PATH, \"w\") as f:\n",
    "    for prediction in predictions:\n",
    "        f.write(str(int(prediction)) + '\\n')\n",
    "print('Salvataggio delle prediction riuscito')"
   ],
   "metadata": {
    "collapsed": false
   }
  }
 ],
 "metadata": {
  "kernelspec": {
   "display_name": "Python 3",
   "language": "python",
   "name": "python3"
  },
  "language_info": {
   "codemirror_mode": {
    "name": "ipython",
    "version": 2
   },
   "file_extension": ".py",
   "mimetype": "text/x-python",
   "name": "python",
   "nbconvert_exporter": "python",
   "pygments_lexer": "ipython2",
   "version": "2.7.6"
  }
 },
 "nbformat": 4,
 "nbformat_minor": 0
}
